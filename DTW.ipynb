{
 "cells": [
  {
   "cell_type": "code",
   "execution_count": 1,
   "id": "fd429d22",
   "metadata": {},
   "outputs": [],
   "source": [
    "import numpy as np\n",
    "from tslearn.metrics import dtw, dtw_path\n",
    "from fastdtw import fastdtw\n",
    "from scipy.spatial.distance import euclidean\n",
    "import matplotlib.pyplot as plt\n",
    "import os\n",
    "from os.path import join\n",
    "from scipy import interpolate\n",
    "import seaborn as sns\n",
    "from hmmlearn.hmm import MultinomialHMM,GMMHMM,GaussianHMM"
   ]
  },
  {
   "cell_type": "code",
   "execution_count": 2,
   "id": "126001fa",
   "metadata": {},
   "outputs": [],
   "source": [
    "def rfile(filename):\n",
    "    x=[]\n",
    "    y=[]\n",
    "    z=[]\n",
    "    with open(filename,\"r\") as inFile:\n",
    "        for line in inFile:\n",
    "            message = line.split(' ')\n",
    "            x.append(float(message[0]))\n",
    "            y.append(float(message[1]))\n",
    "            z.append(float(message[2]))\n",
    "        x = np.array(x)\n",
    "        y = np.array(y)\n",
    "        z = np.array(z)\n",
    "    return x,y,z"
   ]
  },
  {
   "cell_type": "code",
   "execution_count": 3,
   "id": "5a8873be",
   "metadata": {},
   "outputs": [],
   "source": [
    "def movingAverage(x):\n",
    "    window=3\n",
    "    narray = np.array(x)\n",
    "    for i in range(1,narray.size-1):\n",
    "        narray[i] = (x[i-1]+x[i+1]+x[i])/3\n",
    "    return narray"
   ]
  },
  {
   "cell_type": "code",
   "execution_count": 4,
   "id": "ba0b4595",
   "metadata": {},
   "outputs": [],
   "source": [
    "def fangchai(x):\n",
    "    x = movingAverage(x)\n",
    "    length = len(x)\n",
    "    fc = []\n",
    "    fc.append(0.0)\n",
    "    fc.append(0.0)\n",
    "    for i in range(2,length-2):\n",
    "        narray = np.array(x[i-2:i+3])\n",
    "        fc.append(np.std(narray))\n",
    "    fc.append(0.0)\n",
    "    fc.append(0.0)\n",
    "    fc = np.array(fc)\n",
    "    return fc"
   ]
  },
  {
   "cell_type": "code",
   "execution_count": 5,
   "id": "d55e8029",
   "metadata": {},
   "outputs": [],
   "source": [
    "def jiequ(fc_x):\n",
    "    flag_x = (fc_x>0.3)\n",
    "    count_t = 0\n",
    "    count_f = 0\n",
    "    start = []\n",
    "    end = []\n",
    "    for i in range(0,flag_x.size):\n",
    "        if flag_x[i] == True:\n",
    "            count_t = count_t+1\n",
    "            if count_t >= 6:\n",
    "                count_f=0\n",
    "                if count_t==6:\n",
    "                    start.append(i-5)\n",
    "        if flag_x[i] == False:\n",
    "            count_f=count_f+1\n",
    "            if count_f >= 6:\n",
    "                count_t=0\n",
    "                if count_f==6:\n",
    "                    end.append(i-5)\n",
    "    start.append(flag_x.size-1)\n",
    "    for i in range(0,len(end)):\n",
    "        flag_x[end[i]:start[i]]=False\n",
    "        if i != len(end)-1:\n",
    "            flag_x[start[i]:end[i+1]]=True\n",
    "    return flag_x"
   ]
  },
  {
   "cell_type": "code",
   "execution_count": 6,
   "id": "315d502f",
   "metadata": {},
   "outputs": [],
   "source": [
    "def readfile(filename):\n",
    "    path=filename\n",
    "    dirs = os.listdir(path)\n",
    "    sx=[]\n",
    "    sy=[]\n",
    "    sz=[]\n",
    "    i=0\n",
    "    for file in dirs:\n",
    "        x,y,z=rfile(join(path+file))\n",
    "        fc_x = fangchai(x)\n",
    "        fc_y = fangchai(y)\n",
    "        fc_z = fangchai(z)\n",
    "        flag_x = jiequ(fc_x)\n",
    "        flag_y = jiequ(fc_y)\n",
    "        flag_z = jiequ(fc_z)\n",
    "        sx.append(x[flag_x])\n",
    "        sy.append(y[flag_y])\n",
    "        sz.append(z[flag_z])\n",
    "    return sx,sy,sz"
   ]
  },
  {
   "cell_type": "code",
   "execution_count": 7,
   "id": "a07c9aaf",
   "metadata": {},
   "outputs": [],
   "source": [
    "def readfilet(filename):\n",
    "    path=filename\n",
    "    dirs = os.listdir(path)\n",
    "    sx=[]\n",
    "    sy=[]\n",
    "    sz=[]\n",
    "    i=0\n",
    "    a=np.random.choice(1199, 5, replace=False)\n",
    "    for i in a:\n",
    "        x,y,z=rfile(join(path+dirs[i]))\n",
    "        print(dirs[i])\n",
    "        fc_x = fangchai(x)\n",
    "        fc_y = fangchai(y)\n",
    "        fc_z = fangchai(z)\n",
    "        flag_x = jiequ(fc_x)\n",
    "        flag_y = jiequ(fc_y)\n",
    "        flag_z = jiequ(fc_z)\n",
    "        sx.append(x[flag_x])\n",
    "        sy.append(y[flag_y])\n",
    "        sz.append(z[flag_z])\n",
    "    return sx,sy,sz,a"
   ]
  },
  {
   "cell_type": "code",
   "execution_count": 8,
   "id": "c158a4df",
   "metadata": {},
   "outputs": [],
   "source": [
    "def readfiletest(filename,test2):\n",
    "    path=filename\n",
    "    dirs = os.listdir(path)\n",
    "    sx=[]\n",
    "    sy=[]\n",
    "    sz=[]\n",
    "    i=0\n",
    "    for i in test2:\n",
    "        x,y,z=rfile(join(path+dirs[i]))\n",
    "        fc_x = fangchai(x)\n",
    "        fc_y = fangchai(y)\n",
    "        fc_z = fangchai(z)\n",
    "        flag_x = jiequ(fc_x)\n",
    "        flag_y = jiequ(fc_y)\n",
    "        flag_z = jiequ(fc_z)\n",
    "        sx.append(x[flag_x])\n",
    "        sy.append(y[flag_y])\n",
    "        sz.append(z[flag_z])\n",
    "    return sx,sy,sz"
   ]
  },
  {
   "cell_type": "code",
   "execution_count": 9,
   "id": "9ec4f9b4",
   "metadata": {},
   "outputs": [
    {
     "name": "stdout",
     "output_type": "stream",
     "text": [
      "175.txt\n",
      "h59.txt\n",
      "h398.txt\n",
      "282.txt\n",
      "279.txt\n"
     ]
    }
   ],
   "source": [
    "sx,sy,sz,a=readfilet('./t/')"
   ]
  },
  {
   "cell_type": "code",
   "execution_count": 10,
   "id": "cfaf4bc3",
   "metadata": {},
   "outputs": [],
   "source": [
    "test1=np.arange(0,1200,1)"
   ]
  },
  {
   "cell_type": "code",
   "execution_count": 11,
   "id": "29663e7d",
   "metadata": {},
   "outputs": [],
   "source": [
    "test2=np.setdiff1d(test1,a)"
   ]
  },
  {
   "cell_type": "code",
   "execution_count": 12,
   "id": "beb6f9b1",
   "metadata": {},
   "outputs": [],
   "source": [
    "np.random.shuffle(test2)"
   ]
  },
  {
   "cell_type": "code",
   "execution_count": 13,
   "id": "c3194fc7",
   "metadata": {},
   "outputs": [],
   "source": [
    "def avg_dtw(x,y,z):\n",
    "    train_dtw=[]\n",
    "    for i in range(0,len(x)-1):\n",
    "        for j in range(i+1,len(x)):\n",
    "            dtw_scorex=dtw(x[i],x[j])\n",
    "            dtw_scorey=dtw(y[i],y[j])\n",
    "            dtw_scorez=dtw(z[i],z[j])\n",
    "            train_dtw.append(dtw_scorex+dtw_scorey+dtw_scorez)\n",
    "    train_dtw=np.array(train_dtw)\n",
    "    return train_dtw"
   ]
  },
  {
   "cell_type": "code",
   "execution_count": 14,
   "id": "ecfe00bf",
   "metadata": {},
   "outputs": [],
   "source": [
    "train_dtw=avg_dtw(sx,sy,sz)"
   ]
  },
  {
   "cell_type": "code",
   "execution_count": 15,
   "id": "160150ac",
   "metadata": {},
   "outputs": [
    {
     "data": {
      "text/plain": [
       "(10,)"
      ]
     },
     "execution_count": 15,
     "metadata": {},
     "output_type": "execute_result"
    }
   ],
   "source": [
    "train_dtw.shape"
   ]
  },
  {
   "cell_type": "code",
   "execution_count": 16,
   "id": "e816e1bb",
   "metadata": {
    "scrolled": false
   },
   "outputs": [],
   "source": [
    "mean_dtw=np.mean(train_dtw)"
   ]
  },
  {
   "cell_type": "code",
   "execution_count": 17,
   "id": "87e07fde",
   "metadata": {},
   "outputs": [
    {
     "data": {
      "text/plain": [
       "45.38587523855089"
      ]
     },
     "execution_count": 17,
     "metadata": {},
     "output_type": "execute_result"
    }
   ],
   "source": [
    "mean_dtw"
   ]
  },
  {
   "cell_type": "code",
   "execution_count": 18,
   "id": "c74fc304",
   "metadata": {},
   "outputs": [],
   "source": [
    "std_dtw=np.std(train_dtw)"
   ]
  },
  {
   "cell_type": "code",
   "execution_count": 19,
   "id": "f921193c",
   "metadata": {},
   "outputs": [],
   "source": [
    "def test_dtw(trainx,testx):\n",
    "    t_dtw=[]\n",
    "    for i in range(0,len(trainx)):\n",
    "        dtw_score=dtw(testx,trainx[i])\n",
    "        t_dtw.append(dtw_score)\n",
    "    t_dtw=np.array(t_dtw)\n",
    "    return t_dtw"
   ]
  },
  {
   "cell_type": "code",
   "execution_count": 20,
   "id": "e4cfab13",
   "metadata": {},
   "outputs": [],
   "source": [
    "# testlh_x,testlh_y,testlh_z=readfile('./test_123/lh/')"
   ]
  },
  {
   "cell_type": "code",
   "execution_count": 21,
   "id": "94f815ab",
   "metadata": {
    "scrolled": false
   },
   "outputs": [],
   "source": [
    "# for i in range(0,len(testlh_x)):\n",
    "#     print('x:',np.mean(test_dtw(sx,testlh_x[i])))\n",
    "#     print('y:',np.mean(test_dtw(sy,testlh_y[i])))\n",
    "#     print('z:',np.mean(test_dtw(sy,testlh_y[i])))"
   ]
  },
  {
   "cell_type": "code",
   "execution_count": 22,
   "id": "34d54966",
   "metadata": {
    "scrolled": false
   },
   "outputs": [],
   "source": [
    "path='./test_123/'\n",
    "dirs = os.listdir(path)\n",
    "test_other=[]\n",
    "test_hjl=[]\n",
    "for files in dirs:\n",
    "    test_x,test_y,test_z=readfile(join(path+files+'/'))\n",
    "    if files=='hjl':\n",
    "        continue\n",
    "    else:\n",
    "        for i in range(0,len(test_x)):\n",
    "            test_other.append(np.mean(test_dtw(sx,test_x[i])+test_dtw(sy,test_y[i])+test_dtw(sz,test_z[i])))\n",
    "test_other=np.array(test_other)"
   ]
  },
  {
   "cell_type": "code",
   "execution_count": 23,
   "id": "6df5215d",
   "metadata": {},
   "outputs": [
    {
     "data": {
      "text/plain": [
       "array([ 91.01159001,  67.35985523,  76.38408514,  68.43337613,\n",
       "        75.154204  ,  64.56330495,  75.96483203,  64.85245276,\n",
       "        83.95649813,  62.26001692,  59.21734042,  57.45087898,\n",
       "        67.20789965,  61.62519828,  58.40857324,  61.43233311,\n",
       "        70.20194206,  75.93601023,  67.46302062,  65.56969051,\n",
       "        82.46618281,  60.60357625,  94.71383671,  67.78012282,\n",
       "        61.70485619,  59.32714189,  60.97949474,  63.35977043,\n",
       "        64.12787127,  65.08910675,  64.83827804,  62.74928007,\n",
       "        61.80025138,  60.12217654,  59.72473019,  70.98453808,\n",
       "        58.79341128,  61.67728503,  68.60183207,  84.60527964,\n",
       "        72.10536717,  63.24184505,  69.49266992,  59.38973616,\n",
       "        63.122982  ,  64.40460293,  59.69281996,  60.54650944,\n",
       "        60.90389626,  63.41121405,  55.71708184,  61.85582571,\n",
       "        58.49868589,  62.01710328,  69.78483817,  64.87648332,\n",
       "        60.1464312 ,  62.19943095,  56.11239798,  56.97248543,\n",
       "        59.1586274 ,  72.22908654,  65.66130351,  60.92199508,\n",
       "        63.85101843,  62.66329365,  60.3353741 ,  61.36516559,\n",
       "        70.93056333,  62.16649164,  63.67113337,  64.31349407,\n",
       "        61.08352503,  67.61373419,  66.48195456,  60.65149578,\n",
       "        55.83278849,  64.50311708,  55.26157479,  61.39639675,\n",
       "        56.45192347,  62.05819424,  59.59765461,  56.21241424,\n",
       "        54.7875122 ,  58.96699506,  57.24137017,  56.64937046,\n",
       "        59.09668387,  60.37880365,  57.98271119,  57.27598457,\n",
       "        63.17810811,  54.34960297,  61.03241228,  56.75705981,\n",
       "        59.0672275 ,  63.95265422,  64.50557515,  59.39499905,\n",
       "        52.71638786,  57.20102893,  59.60195466,  63.27997165,\n",
       "        68.16006277,  65.2739468 ,  70.80130397,  67.02714321,\n",
       "        69.06427354,  60.72751461,  70.89050051,  60.95759569,\n",
       "        66.08941312,  60.77828833,  63.13770476,  54.86991859,\n",
       "        60.74058821,  55.62034649,  56.46715164,  55.26850249,\n",
       "        77.77295643,  65.82409723,  63.08564157,  68.09701916,\n",
       "        60.53357083,  63.16372048,  65.35324558,  60.08469663,\n",
       "        68.78456334,  63.34683261,  67.66512153, 147.37884625,\n",
       "        71.02137534,  69.55218988,  65.43766834,  65.46060055,\n",
       "        58.53519439,  60.36244184,  56.81628478,  59.45198681,\n",
       "        66.73875578,  67.94117688,  65.92973227,  67.78054223,\n",
       "        62.79806377,  61.35267637,  62.49472313,  71.24700472,\n",
       "        65.31807473,  70.90438838,  64.90358041,  63.8391281 ,\n",
       "        58.93330507,  72.5388516 ,  60.64881706,  74.15932435,\n",
       "        74.38938805,  63.18913549,  59.15115833,  66.69898375,\n",
       "        89.74318728,  65.47052373,  69.90218758,  68.70915263,\n",
       "        71.96652863,  73.78500156,  64.9920143 ,  77.56465129,\n",
       "        87.02341454,  80.36392178,  65.8762759 ,  78.31962837,\n",
       "        71.44437697,  66.20796548,  72.0248285 ,  70.07036009,\n",
       "        64.43693448,  72.72647253,  83.21489563,  69.00459023,\n",
       "        69.27840887,  66.73964632,  68.58268765,  63.73311902,\n",
       "        65.25631076,  67.93523299,  69.97864469,  68.15178913,\n",
       "        62.04050792,  65.90519944,  55.74544285,  61.91438089,\n",
       "        52.84537444,  76.35243583,  63.29689597,  67.22930282,\n",
       "        70.67591582,  73.86519056,  65.8915895 ,  68.98126965,\n",
       "        71.30003485,  74.8703834 ,  69.00808992,  68.00337559,\n",
       "        67.21694696,  68.88421929,  65.68453537,  68.13154542,\n",
       "        66.1703208 ,  67.39591392,  66.61622549,  69.30075811,\n",
       "        72.74699661,  71.50423837,  64.26057277,  69.18868087,\n",
       "        62.82451991,  68.44964326,  71.3222432 ,  67.61760437,\n",
       "        69.49046751,  67.80216812,  69.08514244,  60.84124166,\n",
       "        62.55622058,  63.30486642,  63.79092639,  67.35620027,\n",
       "        66.89001973,  81.67390106,  64.56883598,  68.07363163,\n",
       "        69.30583596,  73.34218584,  67.52656096,  64.25539772,\n",
       "        69.38409587,  65.94223281,  69.44406953,  72.106597  ,\n",
       "        85.10747675, 106.9123969 ,  84.64739924,  86.11092754,\n",
       "        81.63898682,  91.10057896,  99.17414319, 105.22157616,\n",
       "       157.52046691,  96.15614455, 132.06272862, 119.4795609 ,\n",
       "       129.33993877,  83.16331097, 109.51852759,  88.26150741,\n",
       "       146.47150713, 175.290354  , 148.1986147 , 157.02285066,\n",
       "       127.71710232, 124.53977197, 103.36161179, 144.40349093,\n",
       "       150.54290003, 127.09292804,  99.35470851, 147.06027455,\n",
       "       163.13973277, 151.63208146, 110.7464615 , 149.78291344,\n",
       "       103.70071194, 118.79646798, 124.45278301, 108.55859515,\n",
       "        97.47011859,  76.03472375,  87.65594859, 107.32868146,\n",
       "        88.93570511,  62.19080951,  66.05917352,  64.54750506,\n",
       "        63.94288842,  70.09978217,  59.68214018,  83.8465415 ,\n",
       "        68.61246765,  66.17119653,  60.00580376,  69.91921702,\n",
       "        63.63296766,  69.54641393,  75.29760613,  78.82151104,\n",
       "        67.40173589,  57.31349551,  75.67993446,  75.60360828,\n",
       "        74.80000749,  79.85131709,  84.77350733,  74.73045908,\n",
       "        86.85095072,  59.59134244,  61.52821861,  57.69540066,\n",
       "        58.43915872,  54.72684151,  53.66686154,  54.72528418,\n",
       "        56.61361583,  62.82988448,  57.14108934,  65.91726235,\n",
       "        64.31885032,  59.06019987,  57.00074911,  63.07505434,\n",
       "        62.21428424,  78.37776004,  78.66697832,  95.14089342,\n",
       "       113.20299529, 101.45700417, 111.73427902,  79.75914661,\n",
       "        69.67614772,  62.28391917,  58.71064991,  58.45632022,\n",
       "        67.50100017,  76.94481725,  66.526366  ,  68.95316651,\n",
       "        63.04535551,  70.85011682,  66.45999771,  76.54450875,\n",
       "        67.81763991,  58.39014086,  71.409707  ,  67.9243674 ,\n",
       "        61.88064467,  62.94018049,  57.80442112,  64.37252823,\n",
       "        64.11767637,  70.44870864,  61.12811223,  63.84400279,\n",
       "        66.87128896,  67.81561354,  66.00685161,  71.46079249,\n",
       "        65.81787513,  75.58160594,  82.1478298 ,  83.84389501,\n",
       "        61.80295836,  66.86498848,  64.09286855,  60.47991041,\n",
       "        58.5269535 ,  53.44902906,  61.43907853,  71.3797192 ,\n",
       "        66.59489784,  65.43499328,  60.56570027,  54.34970638,\n",
       "        66.70886869,  60.06231705,  60.90680938,  70.64777717,\n",
       "        58.54935078,  57.98092211,  61.49536725,  55.67861272,\n",
       "        62.49448209,  64.21180046,  61.76636948,  58.44944075,\n",
       "        61.60523391,  57.51686235,  55.15780774,  69.15651064,\n",
       "        72.67021194,  65.35126127,  61.81534043,  61.73358349,\n",
       "        64.42876795,  56.28040675,  64.47504478,  55.59198444,\n",
       "        71.03799846,  62.95221567,  62.28951196,  60.59818823,\n",
       "        63.81413811,  74.30684822,  64.54526308,  64.40648063,\n",
       "        67.40196136,  65.7847959 ,  61.61993989,  63.22629057,\n",
       "        69.59222146,  67.67231706,  68.66898526,  68.95002055,\n",
       "        61.56039359,  58.68402149,  62.64557583,  61.38056017,\n",
       "        62.964391  ,  62.22697187,  67.86166948,  60.60412296,\n",
       "        62.05456351,  67.16869314,  65.05875584,  61.53865303,\n",
       "        67.94439445,  70.13377953,  66.93790196,  64.68960052,\n",
       "        63.79695328,  64.02767105,  63.87177672,  71.68397764,\n",
       "        68.47842099,  80.19094974,  66.00428396,  70.15116193,\n",
       "        73.43005779,  79.28508665,  80.35940878,  76.70048067,\n",
       "        68.87564636,  67.11778573,  53.92646726,  53.7929087 ,\n",
       "        50.92468276,  51.04504301,  54.95785014,  51.93489524,\n",
       "        59.36021996,  59.46541002,  48.41184112,  67.84034675,\n",
       "        52.07007474,  55.78924517,  51.33136185,  47.34778981,\n",
       "        50.19230067,  46.48697773,  47.03591656,  48.44726008,\n",
       "        50.49347977,  51.52859964,  61.15785908,  48.34138584,\n",
       "        51.89507872,  47.3470161 ,  48.69102479,  44.2680279 ,\n",
       "        46.91369515,  53.68638796,  48.00716613,  48.93417917,\n",
       "        46.13199347,  65.53262921,  50.1246765 ,  56.20157209,\n",
       "        57.68538086,  53.43673747,  56.80420657,  53.02275007,\n",
       "        63.52188531,  54.77641771,  59.53180519,  60.73303474,\n",
       "        59.33031419,  61.12680359,  53.40109413,  59.61636383,\n",
       "        62.60854208,  68.31847957,  63.22886578,  63.29506107,\n",
       "        62.03427897,  60.65847586,  62.72541775,  64.83711825,\n",
       "        67.69617286,  68.82483658,  57.27125056,  66.63932219,\n",
       "        58.23528879,  63.06554826,  65.88767882,  70.38167276,\n",
       "        55.83511299,  64.99099814,  62.8254147 ,  71.93566059,\n",
       "        68.32973769,  58.10060033,  62.319695  ,  62.34708675,\n",
       "        63.09167417,  73.69445285,  64.74991789,  79.48498459,\n",
       "        79.19837173,  74.60165314,  58.81444362,  57.9190835 ,\n",
       "        69.69513102, 117.65469704,  66.75404477,  90.78117386,\n",
       "        79.96670019,  60.64884228,  66.99385778,  74.00656929,\n",
       "        70.93312111,  75.08783795,  67.93073979,  64.62070984,\n",
       "        66.99096636,  64.45385118,  76.52034808,  70.2237969 ,\n",
       "        72.64465096,  64.31527432,  58.21267291,  62.7660565 ,\n",
       "        61.65387514,  70.06082338,  64.8004326 ,  63.138689  ,\n",
       "        78.29932115, 108.21871102,  68.6665043 ,  75.77408833,\n",
       "        84.13958142,  68.72257688,  69.95264403,  63.99701384,\n",
       "        66.07130184,  66.74004906,  73.43370047,  69.19986283,\n",
       "        76.24396269,  67.22467253,  73.27337972, 151.16097367,\n",
       "        70.75995234,  87.1791701 ,  86.784899  ,  82.68190593,\n",
       "        76.95891119,  77.27379565,  85.20046619,  83.76751636,\n",
       "        75.72158351,  79.60905044,  82.12439215,  81.65363477,\n",
       "        65.36113118,  65.10035872,  69.9289314 ,  69.15457561,\n",
       "        73.06401582,  67.64616564,  81.8007724 ,  78.76173584,\n",
       "        71.84837405,  66.70001877,  81.25314682,  75.45955819,\n",
       "        74.97120872,  79.47228586,  74.62794986,  78.84305997,\n",
       "        73.38394479,  69.74092336,  77.49144048,  75.48191524,\n",
       "        80.67354309,  81.34401497,  70.61650408,  79.8516052 ,\n",
       "        75.63539568,  89.09058167,  77.32014725,  78.75071614,\n",
       "        95.03211736,  88.26088008,  87.63973498,  82.63375241,\n",
       "        89.76448821,  88.08544442,  82.38403177,  83.9754188 ,\n",
       "        89.62247632,  92.78583589,  94.64319441,  87.99606464,\n",
       "        84.24367394,  85.39892015,  85.45292014,  84.68826885,\n",
       "        75.16160696,  80.12253846,  85.45639916,  93.04778946,\n",
       "        85.38967472,  86.70965217,  82.31247563,  87.28082657,\n",
       "        86.39237444,  82.79279736,  85.57796603,  80.2632325 ,\n",
       "        83.95830813,  81.85173787,  85.04019559,  83.3015829 ,\n",
       "        98.64859754,  82.59389425,  92.64671057,  79.8402658 ,\n",
       "        92.99561183,  80.51381101,  85.45677807,  86.29929225,\n",
       "        90.86497065,  81.36126934,  83.85925903,  70.06151224,\n",
       "        74.05766837,  69.20259518,  68.09391328,  77.91989359,\n",
       "        74.82973242,  73.01900699,  74.06437449, 106.01304359,\n",
       "        71.8054659 ,  80.8993248 ,  80.8715074 ,  76.43545568,\n",
       "        80.57292997,  79.32309434,  78.98971523,  71.37998358,\n",
       "        82.99210624,  78.00185311,  77.94575563,  78.75605211,\n",
       "        75.88784458,  80.78071896,  80.02446248,  76.68197672,\n",
       "        83.13847588,  79.83328627,  77.30668009,  81.42819302,\n",
       "        72.38569823,  78.08428672,  89.54587444,  69.89262217,\n",
       "        76.79428577,  72.6312387 ,  74.59777174,  84.02797452,\n",
       "        72.55783645,  66.63517621,  63.48563996,  67.84922462,\n",
       "        65.24876838,  66.59859857,  66.91070698,  63.0843455 ,\n",
       "        74.16694676,  68.83847198,  54.91142831,  71.25339999,\n",
       "        56.12398081,  55.84651471,  56.72206278,  61.06073405,\n",
       "        63.74112423,  61.54827246,  55.99113678,  60.93930852,\n",
       "        59.52961872,  59.46751639,  77.73086138,  72.06691505,\n",
       "        70.16857335,  64.97351448,  56.9710981 ,  51.78934219,\n",
       "        57.4577048 ,  54.26553677,  61.71387553,  59.92504048,\n",
       "        59.15978776,  76.36523947,  55.09108414,  60.65564291,\n",
       "        69.45699029,  71.60494222,  71.21961827,  57.53822284,\n",
       "        74.90711183,  70.3051639 ,  70.85837751,  63.81512398,\n",
       "        82.6114712 ,  63.92187545,  64.28346833,  74.53249669,\n",
       "        68.67858883,  75.14617039,  67.5566288 ,  67.49362546,\n",
       "        64.37983141,  60.48384055,  65.3712837 ,  64.22186205,\n",
       "        61.87562246,  61.92426821,  70.6683745 ,  67.30702328,\n",
       "        78.07862095,  82.781277  ,  70.7272352 ,  74.50617652,\n",
       "        75.0383764 ,  72.17804745,  71.94661058,  70.58567955,\n",
       "        72.29505402,  74.19483831,  70.31944557,  73.83921455,\n",
       "        74.99052308,  65.0109667 ,  81.8618031 ,  63.45920421,\n",
       "        68.88717706,  67.73362598,  69.14506144,  71.6416807 ])"
      ]
     },
     "execution_count": 23,
     "metadata": {},
     "output_type": "execute_result"
    }
   ],
   "source": [
    "test_other"
   ]
  },
  {
   "cell_type": "code",
   "execution_count": 24,
   "id": "d5f8e5ff",
   "metadata": {},
   "outputs": [],
   "source": [
    "test_x,test_y,test_z=readfiletest('./t/',test2[0:800])\n",
    "for i in range(0,len(test_x)):\n",
    "            test_hjl.append(np.mean(test_dtw(sx,test_x[i])+test_dtw(sy,test_y[i])+test_dtw(sz,test_z[i])))\n",
    "test_hjl=np.array(test_hjl)"
   ]
  },
  {
   "cell_type": "code",
   "execution_count": 37,
   "id": "21b84457",
   "metadata": {},
   "outputs": [],
   "source": [
    "far_dtw=[]\n",
    "frr_dtw=[]\n",
    "list=np.arange(1.2,1.6,0.1)\n",
    "for i in list:\n",
    "    count_tdtw=np.sum(test_other<(mean_dtw+i*std_dtw))\n",
    "    far_dtw.append(count_tdtw/760)\n",
    "    count_hfdtw=800-np.sum(test_hjl<(mean_dtw+i*std_dtw))\n",
    "    frr_dtw.append(count_hfdtw/800)\n",
    "far_dtw=np.array(far_dtw)\n",
    "frr_dtw=np.array(frr_dtw)"
   ]
  },
  {
   "cell_type": "code",
   "execution_count": 39,
   "id": "e5d57997",
   "metadata": {},
   "outputs": [
    {
     "data": {
      "text/plain": [
       "<matplotlib.legend.Legend at 0x262505cca00>"
      ]
     },
     "execution_count": 39,
     "metadata": {},
     "output_type": "execute_result"
    },
    {
     "data": {
      "image/png": "[encoded data removed]",
      "text/plain": [
       "<Figure size 432x288 with 1 Axes>"
      ]
     },
     "metadata": {
      "needs_background": "light"
     },
     "output_type": "display_data"
    }
   ],
   "source": [
    "plt.rcParams['font.family']=['KaiTi']\n",
    "plt.plot(list,far_dtw*100,marker='o',label='FAR')\n",
    "plt.plot(list,frr_dtw*100,marker='v',label='FRR')\n",
    "plt.title(\"DTW\")\n",
    "# plt.xticks(list)\n",
    "# plt.yticks(list)\n",
    "plt.grid()\n",
    "plt.xlabel(\"阈值系数\")\n",
    "plt.ylabel(\"等错率（ERR）/%\")\n",
    "plt.legend()"
   ]
  },
  {
   "cell_type": "code",
   "execution_count": null,
   "id": "6814296c",
   "metadata": {},
   "outputs": [],
   "source": []
  }
 ],
 "metadata": {
  "kernelspec": {
   "display_name": "Python 3",
   "language": "python",
   "name": "python3"
  },
  "language_info": {
   "codemirror_mode": {
    "name": "ipython",
    "version": 3
   },
   "file_extension": ".py",
   "mimetype": "text/x-python",
   "name": "python",
   "nbconvert_exporter": "python",
   "pygments_lexer": "ipython3",
   "version": "3.8.8"
  }
 },
 "nbformat": 4,
 "nbformat_minor": 5
}
