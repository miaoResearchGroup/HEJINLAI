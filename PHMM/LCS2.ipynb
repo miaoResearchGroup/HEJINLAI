{
 "cells": [
  {
   "cell_type": "code",
   "execution_count": 1,
   "id": "e0bfd30d",
   "metadata": {},
   "outputs": [],
   "source": [
    "import numpy as np\n",
    "import matplotlib.pyplot as plt\n",
    "import os\n",
    "from os.path import join\n",
    "from scipy import interpolate"
   ]
  },
  {
   "cell_type": "code",
   "execution_count": 2,
   "id": "824cc606",
   "metadata": {},
   "outputs": [],
   "source": [
    "def rfile(filename):\n",
    "    x=[]\n",
    "    y=[]\n",
    "    z=[]\n",
    "    with open(filename,\"r\") as inFile:\n",
    "        for line in inFile:\n",
    "            message = line.split(' ')\n",
    "            x.append(float(message[0]))\n",
    "            y.append(float(message[1]))\n",
    "            z.append(float(message[2]))\n",
    "        x = np.array(x)\n",
    "        y = np.array(y)\n",
    "        z = np.array(z)\n",
    "    return x,y,z"
   ]
  },
  {
   "cell_type": "code",
   "execution_count": 3,
   "id": "0b2de003",
   "metadata": {},
   "outputs": [],
   "source": [
    "def movingAverage(x):\n",
    "    window=3\n",
    "    narray = np.array(x)\n",
    "    for i in range(1,narray.size-1):\n",
    "        narray[i] = (x[i-1]+x[i+1]+x[i])/3\n",
    "    return narray"
   ]
  },
  {
   "cell_type": "code",
   "execution_count": 4,
   "id": "03ab18a2",
   "metadata": {},
   "outputs": [],
   "source": [
    "def fangchai(x):\n",
    "    x = movingAverage(x)\n",
    "    length = len(x)\n",
    "    fc = []\n",
    "    fc.append(0.0)\n",
    "    fc.append(0.0)\n",
    "    for i in range(2,length-2):\n",
    "        narray = np.array(x[i-2:i+3])\n",
    "        fc.append(np.std(narray))\n",
    "    fc.append(0.0)\n",
    "    fc.append(0.0)\n",
    "    fc = np.array(fc)\n",
    "    return fc"
   ]
  },
  {
   "cell_type": "code",
   "execution_count": 5,
   "id": "208103de",
   "metadata": {},
   "outputs": [],
   "source": [
    "def jiequ(fc_x):\n",
    "    flag_x = (fc_x>0.3)\n",
    "    count_t = 0\n",
    "    count_f = 0\n",
    "    start = []\n",
    "    end = []\n",
    "    for i in range(0,flag_x.size):\n",
    "        if flag_x[i] == True:\n",
    "            count_t = count_t+1\n",
    "            if count_t >= 6:\n",
    "                count_f=0\n",
    "                if count_t==6:\n",
    "                    start.append(i-5)\n",
    "        if flag_x[i] == False:\n",
    "            count_f=count_f+1\n",
    "            if count_f >= 6:\n",
    "                count_t=0\n",
    "                if count_f==6:\n",
    "                    end.append(i-5)\n",
    "    start.append(flag_x.size-1)\n",
    "    for i in range(0,len(end)):\n",
    "        flag_x[end[i]:start[i]]=False\n",
    "        if i != len(end)-1:\n",
    "            flag_x[start[i]:end[i+1]]=True\n",
    "    return flag_x"
   ]
  },
  {
   "cell_type": "code",
   "execution_count": 6,
   "id": "34fe4243",
   "metadata": {},
   "outputs": [],
   "source": [
    "def slinear(number):\n",
    "    x=np.linspace(1,number.size,number.size)\n",
    "    y=number\n",
    "    xnew=np.linspace(1,number.size,300)\n",
    "    f=interpolate.interp1d(x,y,kind=\"slinear\")\n",
    "    ynew=f(xnew)\n",
    "    return ynew"
   ]
  },
  {
   "cell_type": "code",
   "execution_count": 7,
   "id": "7b12faae",
   "metadata": {},
   "outputs": [],
   "source": [
    "def readfile(filename):\n",
    "    path=filename\n",
    "    dirs = os.listdir(path)\n",
    "    sx=[]\n",
    "    sy=[]\n",
    "    sz=[]\n",
    "    i=0\n",
    "    for file in dirs:\n",
    "        x,y,z=rfile(join(path+file))\n",
    "        fc_x = fangchai(x)\n",
    "        fc_y = fangchai(y)\n",
    "        fc_z = fangchai(z)\n",
    "        flag_x = jiequ(fc_x)\n",
    "        flag_y = jiequ(fc_y)\n",
    "        flag_z = jiequ(fc_z)\n",
    "        sx.append(x[flag_x])\n",
    "        sy.append(y[flag_y])\n",
    "        sz.append(z[flag_z])\n",
    "    return sx,sy,sz"
   ]
  },
  {
   "cell_type": "code",
   "execution_count": 8,
   "id": "3854ab54",
   "metadata": {},
   "outputs": [],
   "source": [
    "def readfilet(filename):\n",
    "    path=filename\n",
    "    dirs = os.listdir(path)\n",
    "    sx=[]\n",
    "    sy=[]\n",
    "    sz=[]\n",
    "    i=0\n",
    "    a=np.random.choice(1199, 5, replace=False)\n",
    "    for i in a:\n",
    "        x,y,z=rfile(join(path+dirs[i]))\n",
    "        print(dirs[i])\n",
    "        fc_x = fangchai(x)\n",
    "        fc_y = fangchai(y)\n",
    "        fc_z = fangchai(z)\n",
    "        flag_x = jiequ(fc_x)\n",
    "        flag_y = jiequ(fc_y)\n",
    "        flag_z = jiequ(fc_z)\n",
    "        sx.append(x[flag_x])\n",
    "        sy.append(y[flag_y])\n",
    "        sz.append(z[flag_z])\n",
    "    return sx,sy,sz,a"
   ]
  },
  {
   "cell_type": "code",
   "execution_count": 9,
   "id": "86efdc86",
   "metadata": {},
   "outputs": [],
   "source": [
    "def readfiletest(filename,test2):\n",
    "    path=filename\n",
    "    dirs = os.listdir(path)\n",
    "    sx=[]\n",
    "    sy=[]\n",
    "    sz=[]\n",
    "    i=0\n",
    "    for i in test2:\n",
    "        x,y,z=rfile(join(path+dirs[i]))\n",
    "        fc_x = fangchai(x)\n",
    "        fc_y = fangchai(y)\n",
    "        fc_z = fangchai(z)\n",
    "        flag_x = jiequ(fc_x)\n",
    "        flag_y = jiequ(fc_y)\n",
    "        flag_z = jiequ(fc_z)\n",
    "        sx.append(x[flag_x])\n",
    "        sy.append(y[flag_y])\n",
    "        sz.append(z[flag_z])\n",
    "    return sx,sy,sz"
   ]
  },
  {
   "cell_type": "code",
   "execution_count": 10,
   "id": "0a421c94",
   "metadata": {},
   "outputs": [],
   "source": [
    "def lcs (test,train):\n",
    "    test_len=len(test)\n",
    "    train_len=len(train)\n",
    "    same_jz=np.zeros((test_len+1,train_len+1))\n",
    "    for i in range(1,test_len+1):\n",
    "        for j in range(1,train_len+1):\n",
    "            if test[i-1]>=train[j-1]-0.3 and test[i-1]<=train[j-1]+0.3:\n",
    "                same_jz[i][j]=1+same_jz[i-1][j-1]\n",
    "            else:\n",
    "                same_jz[i][j]=max(same_jz[i-1][j],same_jz[i][j-1])\n",
    "    return float(float(same_jz[test_len][train_len]*2)/float(test_len+train_len))*100"
   ]
  },
  {
   "cell_type": "code",
   "execution_count": 11,
   "id": "84ef1458",
   "metadata": {},
   "outputs": [],
   "source": [
    "def test_lcs(test,train):\n",
    "    t_lcs=[]\n",
    "    for i in range(0,len(train)):\n",
    "        l=lcs(test,train[i])\n",
    "        t_lcs.append(l)\n",
    "    t_lcs=np.array(t_lcs)\n",
    "    return t_lcs"
   ]
  },
  {
   "cell_type": "code",
   "execution_count": 12,
   "id": "5d121c68",
   "metadata": {},
   "outputs": [],
   "source": [
    "def avg_lcs(x,y,z):\n",
    "    train_lcs=[]\n",
    "    for i in range(0,len(x)-1):\n",
    "        for j in range(i+1,len(x)):\n",
    "            lx=lcs(x[i],x[j])\n",
    "            ly=lcs(y[i],y[j])\n",
    "            lz=lcs(z[i],z[j])\n",
    "            train_lcs.append(lx+ly+lz)\n",
    "    train_lcs=np.array(train_lcs)\n",
    "    return train_lcs"
   ]
  },
  {
   "cell_type": "code",
   "execution_count": 13,
   "id": "534d206c",
   "metadata": {},
   "outputs": [
    {
     "name": "stdout",
     "output_type": "stream",
     "text": [
      "h123.txt\n",
      "711.txt\n",
      "767.txt\n",
      "366.txt\n",
      "389.txt\n"
     ]
    }
   ],
   "source": [
    "sx,sy,sz,a=readfilet('./t/')"
   ]
  },
  {
   "cell_type": "code",
   "execution_count": 14,
   "id": "4a1768ff",
   "metadata": {},
   "outputs": [],
   "source": [
    "test1=np.arange(0,1200,1)"
   ]
  },
  {
   "cell_type": "code",
   "execution_count": 15,
   "id": "ee12729a",
   "metadata": {},
   "outputs": [],
   "source": [
    "test2=np.setdiff1d(test1,a)"
   ]
  },
  {
   "cell_type": "code",
   "execution_count": 16,
   "id": "63b0a8d5",
   "metadata": {},
   "outputs": [],
   "source": [
    "np.random.shuffle(test2)"
   ]
  },
  {
   "cell_type": "code",
   "execution_count": 17,
   "id": "2b9a46ae",
   "metadata": {},
   "outputs": [],
   "source": [
    "train_lcs=avg_lcs(sx,sy,sz)"
   ]
  },
  {
   "cell_type": "code",
   "execution_count": 18,
   "id": "4529b49c",
   "metadata": {},
   "outputs": [
    {
     "data": {
      "text/plain": [
       "(10,)"
      ]
     },
     "execution_count": 18,
     "metadata": {},
     "output_type": "execute_result"
    }
   ],
   "source": [
    "train_lcs.shape"
   ]
  },
  {
   "cell_type": "code",
   "execution_count": 19,
   "id": "12deaf20",
   "metadata": {},
   "outputs": [],
   "source": [
    "mean_lcs=np.mean(train_lcs)"
   ]
  },
  {
   "cell_type": "code",
   "execution_count": 20,
   "id": "a86deab3",
   "metadata": {},
   "outputs": [],
   "source": [
    "std_lcs=np.std(train_lcs)"
   ]
  },
  {
   "cell_type": "code",
   "execution_count": 21,
   "id": "00c0dd80",
   "metadata": {},
   "outputs": [],
   "source": [
    "path='./test_123/'\n",
    "dirs = os.listdir(path)\n",
    "test_other=[]\n",
    "test_hjl=[]\n",
    "for files in dirs:\n",
    "    test_x,test_y,test_z=readfile(join(path+files+'/'))\n",
    "    if files=='hjl':\n",
    "        continue\n",
    "    else:\n",
    "        for i in range(0,len(test_x)):\n",
    "            test_other.append(np.mean(test_lcs(test_x[i],sx)+test_lcs(test_y[i],sy)+test_lcs(test_z[i],sz)))\n",
    "test_other=np.array(test_other)"
   ]
  },
  {
   "cell_type": "code",
   "execution_count": 22,
   "id": "e440b035",
   "metadata": {},
   "outputs": [],
   "source": [
    "test_x,test_y,test_z=readfiletest('./t/',test2[0:800])\n",
    "for i in range(0,len(test_x)):\n",
    "            test_hjl.append(np.mean(test_lcs(test_x[i],sx)+test_lcs(test_y[i],sy)+test_lcs(test_z[i],sz)))\n",
    "test_hjl=np.array(test_hjl)"
   ]
  },
  {
   "cell_type": "code",
   "execution_count": 31,
   "id": "3754d043",
   "metadata": {},
   "outputs": [],
   "source": [
    "far_lcs=[]\n",
    "frr_lcs=[]\n",
    "list=np.arange(1.6,2.2,0.1)\n",
    "for i in list:\n",
    "    count_tlcs=np.sum(test_other>(mean_lcs-i*std_lcs))\n",
    "    far_lcs.append(count_tlcs/760)\n",
    "    count_hflcs=800-np.sum(test_hjl>(mean_lcs-i*std_lcs))\n",
    "    frr_lcs.append(count_hflcs/800)"
   ]
  },
  {
   "cell_type": "code",
   "execution_count": 32,
   "id": "2172ac62",
   "metadata": {},
   "outputs": [
    {
     "data": {
      "text/plain": [
       "<matplotlib.legend.Legend at 0x18a11a48430>"
      ]
     },
     "execution_count": 32,
     "metadata": {},
     "output_type": "execute_result"
    },
    {
     "data": {
      "image/png": "[encoded data removed]",
      "text/plain": [
       "<Figure size 432x288 with 1 Axes>"
      ]
     },
     "metadata": {
      "needs_background": "light"
     },
     "output_type": "display_data"
    }
   ],
   "source": [
    "plt.rcParams['font.family']=['KaiTi']\n",
    "plt.plot(list,far_lcs,marker='o',label='FAR')\n",
    "plt.plot(list,frr_lcs,marker='v',label='FRR')\n",
    "plt.title(\"LCS\")\n",
    "plt.xlabel(\"阈值系数\")\n",
    "plt.ylabel(\"等错率（ERR）\")\n",
    "# plt.xticks(list)\n",
    "# plt.yticks(list)\n",
    "plt.grid()\n",
    "plt.legend()"
   ]
  },
  {
   "cell_type": "code",
   "execution_count": null,
   "id": "9175896d",
   "metadata": {},
   "outputs": [],
   "source": []
  }
 ],
 "metadata": {
  "kernelspec": {
   "display_name": "Python 3",
   "language": "python",
   "name": "python3"
  },
  "language_info": {
   "codemirror_mode": {
    "name": "ipython",
    "version": 3
   },
   "file_extension": ".py",
   "mimetype": "text/x-python",
   "name": "python",
   "nbconvert_exporter": "python",
   "pygments_lexer": "ipython3",
   "version": "3.8.8"
  }
 },
 "nbformat": 4,
 "nbformat_minor": 5
}
